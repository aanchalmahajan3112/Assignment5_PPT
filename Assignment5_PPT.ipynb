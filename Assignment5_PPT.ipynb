{
  "nbformat": 4,
  "nbformat_minor": 0,
  "metadata": {
    "colab": {
      "provenance": []
    },
    "kernelspec": {
      "name": "python3",
      "display_name": "Python 3"
    },
    "language_info": {
      "name": "python"
    }
  },
  "cells": [
    {
      "cell_type": "code",
      "execution_count": 1,
      "metadata": {
        "colab": {
          "base_uri": "https://localhost:8080/"
        },
        "id": "Rd-wwn8sZ8SJ",
        "outputId": "ee1deb0a-4045-49ec-c542-b93a5883661e"
      },
      "outputs": [
        {
          "output_type": "stream",
          "name": "stdout",
          "text": [
            "[[1, 2], [3, 4]]\n"
          ]
        }
      ],
      "source": [
        "# 💡 **Question 1**\n",
        "\n",
        "# Convert 1D Array Into 2D Array\n",
        "\n",
        "# You are given a **0-indexed** 1-dimensional (1D) integer array original, and two integers, m and n. You are tasked with creating a 2-dimensional (2D) array with  m rows and n columns using **all** the elements from original.\n",
        "\n",
        "# The elements from indices 0 to n - 1 (**inclusive**) of original should form the first row of the constructed 2D array, the elements from indices n to 2 * n - 1 (**inclusive**) should form the second row of the constructed 2D array, and so on.\n",
        "\n",
        "# Return *an* m x n *2D array constructed according to the above procedure, or an empty 2D array if it is impossible*.\n",
        "\n",
        "# Example 1:\n",
        "# **Input:** original = [1,2,3,4], m = 2, n = 2\n",
        "\n",
        "# **Output:** [[1,2],[3,4]]\n",
        "\n",
        "# **Explanation:** The constructed 2D array should contain 2 rows and 2 columns.\n",
        "\n",
        "# The first group of n=2 elements in original, [1,2], becomes the first row in the constructed 2D array.\n",
        "\n",
        "# The second group of n=2 elements in original, [3,4], becomes the second row in the constructed 2D array.\n",
        "\n",
        "\n",
        "\n",
        "def convert_to_2d_array(original, m, n):\n",
        "    if m * n != len(original):\n",
        "        return []  # Return an empty 2D array if it is impossible\n",
        "\n",
        "    result = []\n",
        "    for i in range(m):\n",
        "        row = original[i * n: (i + 1) * n]\n",
        "        result.append(row)\n",
        "\n",
        "    return result\n",
        "\n",
        "original = [1, 2, 3, 4]\n",
        "m = 2\n",
        "n = 2\n",
        "result = convert_to_2d_array(original, m, n)\n",
        "print(result)\n"
      ]
    },
    {
      "cell_type": "code",
      "source": [
        "# 💡 **Question 2**\n",
        "\n",
        "# You have n coins and you want to build a staircase with these coins. The staircase consists of k rows where the ith row has exactly i coins. The last row of the staircase **may be** incomplete.\n",
        "\n",
        "# Given the integer n, return *the number of **complete rows** of the staircase you will build*.\n",
        "\n",
        "# **Example 1:**\n",
        "\n",
        "# **Input:** n = 5\n",
        "\n",
        "# **Output:** 2\n",
        "\n",
        "# **Explanation:** Because the 3rd row is incomplete, we return 2.\n",
        "\n",
        "\n",
        "\n",
        "import math\n",
        "\n",
        "def count_complete_rows(n):\n",
        "    # Solve the quadratic equation i(i+1)/2 = n\n",
        "    # to find the maximum number of complete rows\n",
        "    complete_rows = int((math.sqrt(8 * n + 1) - 1) // 2)\n",
        "    return complete_rows\n",
        "\n",
        "n = 5\n",
        "result = count_complete_rows(n)\n",
        "print(result)\n"
      ],
      "metadata": {
        "colab": {
          "base_uri": "https://localhost:8080/"
        },
        "id": "JPOxd2qNcIuS",
        "outputId": "a397325e-173a-47ea-d472-8f95336634fb"
      },
      "execution_count": 2,
      "outputs": [
        {
          "output_type": "stream",
          "name": "stdout",
          "text": [
            "2\n"
          ]
        }
      ]
    },
    {
      "cell_type": "code",
      "source": [
        "\n",
        "\n",
        "# 💡 **Question 3**\n",
        "\n",
        "# Given an integer array nums sorted in **non-decreasing** order, return *an array of **the squares of each number** sorted in non-decreasing order*.\n",
        "\n",
        "# **Example 1:**\n",
        "\n",
        "# **Input:** nums = [-4,-1,0,3,10]\n",
        "\n",
        "# **Output:** [0,1,9,16,100]\n",
        "\n",
        "# **Explanation:** After squaring, the array becomes [16,1,0,9,100].\n",
        "\n",
        "# After sorting, it becomes [0,1,9,16,100].\n",
        "\n",
        "\n",
        "\n",
        "def sorted_squares(nums):\n",
        "    squares = [num ** 2 for num in nums]\n",
        "    squares.sort()\n",
        "    return squares\n",
        "\n",
        "nums = [-4, -1, 0, 3, 10]\n",
        "result = sorted_squares(nums)\n",
        "print(result)\n"
      ],
      "metadata": {
        "colab": {
          "base_uri": "https://localhost:8080/"
        },
        "id": "7UJxLrKRdCag",
        "outputId": "c2d0f097-fc9b-443f-8ce6-7576bca07775"
      },
      "execution_count": 3,
      "outputs": [
        {
          "output_type": "stream",
          "name": "stdout",
          "text": [
            "[0, 1, 9, 16, 100]\n"
          ]
        }
      ]
    },
    {
      "cell_type": "code",
      "source": [
        "\n",
        "# 💡 **Question 4**\n",
        "\n",
        "# Given two **0-indexed** integer arrays nums1 and nums2, return *a list* answer *of size* 2 *where:*\n",
        "\n",
        "# - answer[0] *is a list of all **distinct** integers in* nums1 *which are **not** present in* nums2*.*\n",
        "# - answer[1] *is a list of all **distinct** integers in* nums2 *which are **not** present in* nums1.\n",
        "\n",
        "# **Note** that the integers in the lists may be returned in **any** order.\n",
        "\n",
        "# **Example 1:**\n",
        "\n",
        "# **Input:** nums1 = [1,2,3], nums2 = [2,4,6]\n",
        "\n",
        "# **Output:** [[1,3],[4,6]]\n",
        "\n",
        "# **Explanation:**\n",
        "\n",
        "# For nums1, nums1[1] = 2 is present at index 0 of nums2, whereas nums1[0] = 1 and nums1[2] = 3 are not present in nums2. Therefore, answer[0] = [1,3].\n",
        "\n",
        "# For nums2, nums2[0] = 2 is present at index 1 of nums1, whereas nums2[1] = 4 and nums2[2] = 6 are not present in nums2. Therefore, answer[1] = [4,6].\n",
        "\n",
        "\n",
        "\n",
        "\n",
        "def find_disjoint_nums(nums1, nums2):\n",
        "    set1 = set(nums1)\n",
        "    set2 = set(nums2)\n",
        "    disjoint_nums1 = list(set1 - set2)\n",
        "    disjoint_nums2 = list(set2 - set1)\n",
        "    answer = [disjoint_nums1, disjoint_nums2]\n",
        "    return answer\n",
        "\n",
        "nums1 = [1, 2, 3]\n",
        "nums2 = [2, 4, 6]\n",
        "result = find_disjoint_nums(nums1, nums2)\n",
        "print(result)\n"
      ],
      "metadata": {
        "colab": {
          "base_uri": "https://localhost:8080/"
        },
        "id": "gICww7dbh5jO",
        "outputId": "215bd1f6-accd-42bb-fec5-b79c982fc67c"
      },
      "execution_count": 4,
      "outputs": [
        {
          "output_type": "stream",
          "name": "stdout",
          "text": [
            "[[1, 3], [4, 6]]\n"
          ]
        }
      ]
    },
    {
      "cell_type": "code",
      "source": [
        "\n",
        "# 💡 **Question 5**\n",
        "\n",
        "# Given two integer arrays arr1 and arr2, and the integer d, *return the distance value between the two arrays*.\n",
        "\n",
        "# The distance value is defined as the number of elements arr1[i] such that there is not any element arr2[j] where |arr1[i]-arr2[j]| <= d.\n",
        "\n",
        "# **Example 1:**\n",
        "\n",
        "# **Input:** arr1 = [4,5,8], arr2 = [10,9,1,8], d = 2\n",
        "\n",
        "# **Output:** 2\n",
        "\n",
        "# **Explanation:**\n",
        "\n",
        "# For arr1[0]=4 we have:\n",
        "\n",
        "# |4-10|=6 > d=2\n",
        "\n",
        "# |4-9|=5 > d=2\n",
        "\n",
        "# |4-1|=3 > d=2\n",
        "\n",
        "# |4-8|=4 > d=2\n",
        "\n",
        "# For arr1[1]=5 we have:\n",
        "\n",
        "# |5-10|=5 > d=2\n",
        "\n",
        "# |5-9|=4 > d=2\n",
        "\n",
        "# |5-1|=4 > d=2\n",
        "\n",
        "# |5-8|=3 > d=2\n",
        "\n",
        "# For arr1[2]=8 we have:\n",
        "\n",
        "# **|8-10|=2 <= d=2**\n",
        "\n",
        "# **|8-9|=1 <= d=2**\n",
        "\n",
        "# |8-1|=7 > d=2\n",
        "\n",
        "# **|8-8|=0 <= d=2**\n",
        "\n",
        "def distance_value(arr1, arr2, d):\n",
        "    distance = 0\n",
        "    for num1 in arr1:\n",
        "        found = False\n",
        "        for num2 in arr2:\n",
        "            if abs(num1 - num2) <= d:\n",
        "                found = True\n",
        "                break\n",
        "        if not found:\n",
        "            distance += 1\n",
        "    return distance\n",
        "\n",
        "arr1 = [4, 5, 8]\n",
        "arr2 = [10, 9, 1, 8]\n",
        "d = 2\n",
        "result = distance_value(arr1, arr2, d)\n",
        "print(result)\n"
      ],
      "metadata": {
        "colab": {
          "base_uri": "https://localhost:8080/"
        },
        "id": "T5SpBfWDizTx",
        "outputId": "dcb44cf8-0709-4a05-cc8e-f4d1808f0350"
      },
      "execution_count": 5,
      "outputs": [
        {
          "output_type": "stream",
          "name": "stdout",
          "text": [
            "2\n"
          ]
        }
      ]
    },
    {
      "cell_type": "code",
      "source": [
        "\n",
        "# 💡 **Question 6**\n",
        "\n",
        "# Given an integer array nums of length n where all the integers of nums are in the range [1, n] and each integer appears **once** or **twice**, return *an array of all the integers that appears **twice***.\n",
        "\n",
        "# You must write an algorithm that runs in O(n) time and uses only constant extra space.\n",
        "\n",
        "# **Example 1:**\n",
        "\n",
        "# **Input:** nums = [4,3,2,7,8,2,3,1]\n",
        "\n",
        "# **Output:**\n",
        "\n",
        "# [2,3]\n",
        "\n",
        "\n",
        "def find_duplicates(nums):\n",
        "    duplicates = []\n",
        "    for num in nums:\n",
        "        index = abs(num) - 1\n",
        "        if nums[index] < 0:\n",
        "            duplicates.append(index + 1)\n",
        "        else:\n",
        "            nums[index] = -nums[index]\n",
        "    return duplicates\n",
        "\n",
        "nums = [4, 3, 2, 7, 8, 2, 3, 1]\n",
        "result = find_duplicates(nums)\n",
        "print(result)\n"
      ],
      "metadata": {
        "colab": {
          "base_uri": "https://localhost:8080/"
        },
        "id": "DT01cBIIjKWB",
        "outputId": "f32cc4e1-e00d-4df7-d08f-ca6209dca6e2"
      },
      "execution_count": 6,
      "outputs": [
        {
          "output_type": "stream",
          "name": "stdout",
          "text": [
            "[2, 3]\n"
          ]
        }
      ]
    },
    {
      "cell_type": "code",
      "source": [
        "\n",
        "# 💡 **Question 7**\n",
        "\n",
        "# Suppose an array of length n sorted in ascending order is **rotated** between 1 and n times. For example, the array nums = [0,1,2,4,5,6,7] might become:\n",
        "\n",
        "# - [4,5,6,7,0,1,2] if it was rotated 4 times.\n",
        "# - [0,1,2,4,5,6,7] if it was rotated 7 times.\n",
        "\n",
        "# Notice that **rotating** an array [a[0], a[1], a[2], ..., a[n-1]] 1 time results in the array [a[n-1], a[0], a[1], a[2], ..., a[n-2]].\n",
        "\n",
        "# Given the sorted rotated array nums of **unique** elements, return *the minimum element of this array*.\n",
        "\n",
        "# You must write an algorithm that runs in O(log n) time.\n",
        "\n",
        "# **Example 1:**\n",
        "\n",
        "# **Input:** nums = [3,4,5,1,2]\n",
        "\n",
        "# **Output:** 1\n",
        "\n",
        "# **Explanation:**\n",
        "\n",
        "# The original array was [1,2,3,4,5] rotated 3 times.\n",
        "\n",
        "\n",
        "\n",
        "\n",
        "def find_minimum(nums):\n",
        "    left = 0\n",
        "    right = len(nums) - 1\n",
        "    \n",
        "    while left < right:\n",
        "        mid = left + (right - left) // 2\n",
        "        \n",
        "        if nums[mid] > nums[right]:\n",
        "            left = mid + 1\n",
        "        else:\n",
        "            right = mid\n",
        "    \n",
        "    return nums[left]\n",
        "\n",
        "nums = [3, 4, 5, 1, 2]\n",
        "result = find_minimum(nums)\n",
        "print(result)\n"
      ],
      "metadata": {
        "colab": {
          "base_uri": "https://localhost:8080/"
        },
        "id": "1ZbHUZ2sjhge",
        "outputId": "51dc3cbd-a731-4ee7-8eda-a7a188ef4bfd"
      },
      "execution_count": 7,
      "outputs": [
        {
          "output_type": "stream",
          "name": "stdout",
          "text": [
            "1\n"
          ]
        }
      ]
    },
    {
      "cell_type": "code",
      "source": [
        "\n",
        "\n",
        "# 💡 **Question 8**\n",
        "\n",
        "# An integer array original is transformed into a **doubled** array changed by appending **twice the value** of every element in original, and then randomly **shuffling** the resulting array.\n",
        "\n",
        "# Given an array changed, return original *if* changed *is a **doubled** array. If* changed *is not a **doubled** array, return an empty array. The elements in* original *may be returned in **any** order*.\n",
        "\n",
        "# **Example 1:**\n",
        "\n",
        "# **Input:** changed = [1,3,4,2,6,8]\n",
        "\n",
        "# **Output:** [1,3,4]\n",
        "\n",
        "# **Explanation:** One possible original array could be [1,3,4]:\n",
        "\n",
        "# - Twice the value of 1 is 1 * 2 = 2.\n",
        "# - Twice the value of 3 is 3 * 2 = 6.\n",
        "# - Twice the value of 4 is 4 * 2 = 8.\n",
        "\n",
        "# Other original arrays could be [4,3,1] or [3,1,4].\n",
        "\n",
        "\n",
        "\n",
        "from collections import defaultdict\n",
        "\n",
        "def find_original_array(changed):\n",
        "    if len(changed) % 2 != 0:\n",
        "        return []  # changed cannot be a doubled array\n",
        "\n",
        "    counts = defaultdict(int)\n",
        "    for num in changed:\n",
        "        counts[num] += 1\n",
        "\n",
        "    original = []\n",
        "    for num in changed:\n",
        "        if counts[num] == 0:\n",
        "            continue\n",
        "        if counts[num*2] == 0:\n",
        "            return []  # changed is not a doubled array\n",
        "        original.append(num)\n",
        "        counts[num] -= 1\n",
        "        counts[num*2] -= 1\n",
        "\n",
        "    return original\n",
        "\n",
        "changed = [1, 3, 4, 2, 6, 8]\n",
        "result = find_original_array(changed)\n",
        "print(result)\n"
      ],
      "metadata": {
        "colab": {
          "base_uri": "https://localhost:8080/"
        },
        "id": "zcRi5IlckPw6",
        "outputId": "0bb7a44d-f830-453b-b28d-767eb23627c4"
      },
      "execution_count": 8,
      "outputs": [
        {
          "output_type": "stream",
          "name": "stdout",
          "text": [
            "[1, 3, 4]\n"
          ]
        }
      ]
    }
  ]
}